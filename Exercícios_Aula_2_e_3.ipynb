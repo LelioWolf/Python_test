{
  "nbformat": 4,
  "nbformat_minor": 0,
  "metadata": {
    "colab": {
      "name": "Exercícios Aula 2 e 3.ipynb",
      "provenance": [],
      "authorship_tag": "ABX9TyNowyVEvwWKo+azPUAEDbjA",
      "include_colab_link": true
    },
    "kernelspec": {
      "name": "python3",
      "display_name": "Python 3"
    },
    "language_info": {
      "name": "python"
    }
  },
  "cells": [
    {
      "cell_type": "markdown",
      "metadata": {
        "id": "view-in-github",
        "colab_type": "text"
      },
      "source": [
        "<a href=\"https://colab.research.google.com/github/LelioWolf/Python_test/blob/main/Exerc%C3%ADcios_Aula_2_e_3.ipynb\" target=\"_parent\"><img src=\"https://colab.research.google.com/assets/colab-badge.svg\" alt=\"Open In Colab\"/></a>"
      ]
    },
    {
      "cell_type": "markdown",
      "source": [
        "**AULA 2**"
      ],
      "metadata": {
        "id": "KNYHY_lNRcH4"
      }
    },
    {
      "cell_type": "markdown",
      "source": [
        "Exercicio 1"
      ],
      "metadata": {
        "id": "uyVkb5DjKYua"
      }
    },
    {
      "cell_type": "code",
      "source": [
        "# Considere as seguintes declarações de atribuições:\n",
        "\n",
        "largura= 17\n",
        "altura= 12.0\n",
        "delimitador= \".\"\n",
        "\n",
        "# Escrevendo os valores das expressões e o tipo do valor da expressão\n",
        "\n",
        "# Valores tipos numeros\n",
        "print(largura/2) \n",
        "print(largura/2.0)\n",
        "print(altura/3)\n",
        "print(1+2*5)\n",
        "\n",
        "# Valor tipo letra\n",
        "print(delimitador*5)"
      ],
      "metadata": {
        "colab": {
          "base_uri": "https://localhost:8080/"
        },
        "id": "9p3zCFplINIy",
        "outputId": "4e751fd7-ad07-44a9-fb35-722bb040de39"
      },
      "execution_count": 12,
      "outputs": [
        {
          "output_type": "stream",
          "name": "stdout",
          "text": [
            "8.5\n",
            "8.5\n",
            "4.0\n",
            "11\n",
            ".....\n"
          ]
        }
      ]
    },
    {
      "cell_type": "markdown",
      "source": [
        "Exercicio 2\n",
        "\n",
        "O volume de uma esfera de raio r é (4/3 pi r^3). Qual é o volume de uma esfera de raio 5?"
      ],
      "metadata": {
        "id": "cptcltUvNXTZ"
      }
    },
    {
      "cell_type": "code",
      "source": [
        "import math\n",
        "\n",
        "# Declarações dos dados\n",
        "math.pi\n",
        "r = 5                           # raio da esfera\n",
        "v = (4/3*pi*r**3)               # volume da esfera\n",
        "\n",
        "# Calculando o valor de um volume de uma esfera de raio 5\n",
        "print('v = ', v)"
      ],
      "metadata": {
        "colab": {
          "base_uri": "https://localhost:8080/"
        },
        "id": "C4cP3Nk-NfJZ",
        "outputId": "4710cdd6-a98f-4699-9140-5d7a4ada945c"
      },
      "execution_count": 80,
      "outputs": [
        {
          "output_type": "stream",
          "name": "stdout",
          "text": [
            "v =  523.5987755982989\n"
          ]
        }
      ]
    },
    {
      "cell_type": "markdown",
      "source": [
        "Exercicio 3\n",
        "\n",
        "Suponha que o preço de um livro seja 24.95 reais, porém as livrarias têm desconto de 40%. Os custos de envio são de 3.00 reais para o primeiro livro e 0.75 reais para os livros adicionais. Qual é o custo total da compra de 60 livros?"
      ],
      "metadata": {
        "id": "qW7r_JQAQ2WH"
      }
    },
    {
      "cell_type": "code",
      "source": [
        "import math\n",
        "\n",
        "# Declaração de dados\n",
        "p = 24.95                                 # preço em reais de um livro\n",
        "d = 0.4                                   # desconto\n",
        "ce = 3.00                                 # custos em reais de envios para o primeiro livro\n",
        "ca = 0.75                                 # custos em reais de envios de livros adicionais\n",
        "\n",
        "# Resultados\n",
        "\n",
        "cp = (p * 60 *d)                          # calculo com a porcentagem\n",
        "ct = (p * 60 - cp) + ce + ca * 59         # custo total em reais\n",
        "print('ct=', ct, 'reais')\n"
      ],
      "metadata": {
        "colab": {
          "base_uri": "https://localhost:8080/"
        },
        "id": "dqms61uJRYD4",
        "outputId": "4393cfa9-dcce-4774-f839-6772f2f0ee7b"
      },
      "execution_count": 61,
      "outputs": [
        {
          "output_type": "stream",
          "name": "stdout",
          "text": [
            "ct= 945.4499999999999 reais\n"
          ]
        }
      ]
    },
    {
      "cell_type": "markdown",
      "source": [
        "Exercicio 4\n",
        "\n",
        "Um laser vermelho (com comprimento de onda lambida= 632.8 nm) incide em uma fenda dupla produzindo um padrão de interferência com franjas claras e escuras, em um anteparo situado a uma distância D = 1.98 m da fenda. Calcule a distância delta y entre dois máximos consecutivos de interferência. Considere o espaçamento entre as fendas, **d**, como sendo igual a 0.250 mm. Dica: a distância entre dois máximos de interferência consecutivos pode ser aproximada por delta y= lambida D/d."
      ],
      "metadata": {
        "id": "hCUx-SiMZHKP"
      }
    },
    {
      "cell_type": "code",
      "source": [
        "import math\n",
        "\n",
        "# Declaração de dados\n",
        "l = 632.8 * 10**-9                  # lambida em nanometros(nm)\n",
        "D = 1.98                            # distancia em metros(m)\n",
        "d = 0.250 * 10**-3                  # espaçamento entre as fendas em milimetros(mm)\n",
        "\n",
        "# Resultados\n",
        "dm = (d/1000)                         # milimetros para metros\n",
        "dl = (l/ 10**+9)                      # nanometros para metros\n",
        "dy = (dl*D)/dm                        # delta y\n",
        "print('dy=',d, 'm')\n",
        "print('ou')\n",
        "print('dy=', '25x10^-5','m')"
      ],
      "metadata": {
        "colab": {
          "base_uri": "https://localhost:8080/"
        },
        "id": "xN1uE9P7ZhE2",
        "outputId": "bfa29d55-724e-4429-87aa-98a1090637bf"
      },
      "execution_count": 77,
      "outputs": [
        {
          "output_type": "stream",
          "name": "stdout",
          "text": [
            "dy= 0.00025 m\n",
            "ou\n",
            "dy= 25x10^-5 m\n"
          ]
        }
      ]
    },
    {
      "cell_type": "markdown",
      "source": [
        "**AULA 3**"
      ],
      "metadata": {
        "id": "RCAaDSZ1gX50"
      }
    },
    {
      "cell_type": "markdown",
      "source": [
        "Exercicio 1\n",
        "\n",
        "Crie uma funcão que tome um argumento e imprima o valor e o tipo dele."
      ],
      "metadata": {
        "id": "cHXw8mPSqWAB"
      }
    },
    {
      "cell_type": "code",
      "source": [
        "def print_seiya():                                                              # cabeçário da função\n",
        "    print('seiya de pegasus é o melhor cavaleiro')                              # declaração da função"
      ],
      "metadata": {
        "id": "RbfvYRglqaWp"
      },
      "execution_count": 91,
      "outputs": []
    },
    {
      "cell_type": "code",
      "source": [
        "print(print_seiya)"
      ],
      "metadata": {
        "colab": {
          "base_uri": "https://localhost:8080/"
        },
        "id": "e34cgguKtZgJ",
        "outputId": "92f74830-929e-4f78-e4ed-7b7f7bc58e42"
      },
      "execution_count": 94,
      "outputs": [
        {
          "output_type": "stream",
          "name": "stdout",
          "text": [
            "<function print_seiya at 0x7f336d6870e0>\n"
          ]
        }
      ]
    },
    {
      "cell_type": "code",
      "source": [
        "type(print_seiya)"
      ],
      "metadata": {
        "colab": {
          "base_uri": "https://localhost:8080/"
        },
        "id": "Kb27sflbtefZ",
        "outputId": "ba35d716-1930-4605-ca82-ba65c7ef589e"
      },
      "execution_count": 95,
      "outputs": [
        {
          "output_type": "execute_result",
          "data": {
            "text/plain": [
              "function"
            ]
          },
          "metadata": {},
          "execution_count": 95
        }
      ]
    },
    {
      "cell_type": "code",
      "source": [
        "print_seiya()"
      ],
      "metadata": {
        "colab": {
          "base_uri": "https://localhost:8080/"
        },
        "id": "SBeU2lTHsXlI",
        "outputId": "ec39486a-eba5-42b4-8359-5b3bf56b2386"
      },
      "execution_count": 92,
      "outputs": [
        {
          "output_type": "stream",
          "name": "stdout",
          "text": [
            "seiya de pegasus é o melhor cavaleiro\n"
          ]
        }
      ]
    },
    {
      "cell_type": "code",
      "source": [
        "def print_seiya():                                                              # cabeçário da função\n",
        "    print('seiya de pegasus é o melhor cavaleiro')                              # declaração da função\n",
        "\n",
        "def shion_ouro():\n",
        "    print('shion é o mestre dos cavaleiros')\n",
        "    print('shion é amigo de seiya')\n",
        "\n",
        "    print_seiya()\n",
        "\n",
        "    print('ele tem varios amigos cavaleiros')\n",
        "    print('juntos eles lutam')\n",
        "\n",
        "shion_ouro()"
      ],
      "metadata": {
        "colab": {
          "base_uri": "https://localhost:8080/"
        },
        "id": "yunM10ynrUc5",
        "outputId": "a8b93dc7-1d6b-498f-feb6-591d4f0e0789"
      },
      "execution_count": 93,
      "outputs": [
        {
          "output_type": "stream",
          "name": "stdout",
          "text": [
            "shion é o mestre dos cavaleiros\n",
            "shion é amigo de seiya\n",
            "seiya de pegasus é o melhor cavaleiro\n",
            "ele tem varios amigos cavaleiros\n",
            "juntos eles lutam\n"
          ]
        }
      ]
    },
    {
      "cell_type": "markdown",
      "source": [
        "Exercicio 2\n",
        "\n",
        "Crie uma função que calcule e imprima velocidade media de um objeto a partir de uma posição inicial, a final e o tempo transcorrido para um objeto em MRU. Também crie uma funcão que calcule e imprima a velocidade de um objeto a partir da aceleração constante e o tempo (MRUA) (p.ex. queda libre)."
      ],
      "metadata": {
        "id": "gjYfKNWUts31"
      }
    },
    {
      "cell_type": "code",
      "source": [
        "# Dados\n",
        "sf = 10                   # posição final em metros\n",
        "so = 0                    # posição inicial em metros\n",
        "v = velocidade            # em m/s (metros por segundos)\n",
        "t = 2                     # tempo em segundos\n",
        "\n",
        "v = sf - so / t           # formula\n",
        "\n",
        "def velocidade_media():\n",
        "    print('v=',v,'m/s')\n",
        "\n",
        "velocidade_media()"
      ],
      "metadata": {
        "colab": {
          "base_uri": "https://localhost:8080/"
        },
        "id": "6wlKymvttw_H",
        "outputId": "f4ee3788-2dc7-4c1d-f61a-70f5271b17fe"
      },
      "execution_count": 133,
      "outputs": [
        {
          "output_type": "stream",
          "name": "stdout",
          "text": [
            "v= 10.0 m/s\n"
          ]
        }
      ]
    },
    {
      "cell_type": "code",
      "source": [
        "# Dados\n",
        "vf = 10                 # velocidade final em m/s\n",
        "vo = 0                  # velocidade inicial em m/s\n",
        "g = 9.8                 # gravidade em m/s\n",
        "t = 2                   # tempo em s\n",
        "q = 'queda livre'\n",
        "\n",
        "\n",
        "vf = vo + g*t           # formula\n",
        "\n",
        "def queda_livre(q):\n",
        "    print('vf=', vf, 'm/s')\n",
        "\n",
        "queda_livre(q)"
      ],
      "metadata": {
        "colab": {
          "base_uri": "https://localhost:8080/"
        },
        "id": "gP7JEbgR0GxX",
        "outputId": "d3db8fe3-f6a1-4a0d-bc4e-0db80a26d36b"
      },
      "execution_count": 134,
      "outputs": [
        {
          "output_type": "stream",
          "name": "stdout",
          "text": [
            "vf= 19.6 m/s\n"
          ]
        }
      ]
    },
    {
      "cell_type": "markdown",
      "source": [
        "Exercicio 3\n",
        "\n",
        "Crie uma funcão para calcular o ángulo zenital do sol (da semana passada) tomando como argumento as medidas da altura e o comprimento da sombra."
      ],
      "metadata": {
        "id": "YOt-Py2b2Yqn"
      }
    },
    {
      "cell_type": "code",
      "source": [
        "import math\n",
        "\n",
        "# Dados\n",
        "hp = 5                                           # altura de um poste em metros\n",
        "sp = 50                                     # sombra de um poste em centimetros\n",
        "gr = (math.degrees(math.pi))                     # 180 graus\n",
        "az = 'angulo zenital'\n",
        "\n",
        "# Resultados\n",
        "spm = 50/100                                     # centimetro para metro\n",
        "az = ((hp - sp)/2) + gr                          # formula\n",
        "\n",
        "\n",
        "def angulo_zenital_do_sol(az):\n",
        "    print('az=', az,'m')\n",
        "\n",
        "angulo_zenital_do_sol(az)"
      ],
      "metadata": {
        "colab": {
          "base_uri": "https://localhost:8080/"
        },
        "id": "md7IeB-o2fh1",
        "outputId": "65aa0b0b-4779-4e29-bd1b-ef372ce7dd55"
      },
      "execution_count": 152,
      "outputs": [
        {
          "output_type": "stream",
          "name": "stdout",
          "text": [
            "az= 157.5 m\n"
          ]
        }
      ]
    },
    {
      "cell_type": "markdown",
      "source": [
        "Exercicio 4\n",
        "\n",
        "Crie uma função que faça a conversão de uma medida inicialmente em milhas para m, e outra para o inverso; uma de horas para segundos, e o inverso. Utilize estas funções para resolver novamente o primeiro exercício da semana passada (da corrida). Se uma pessoa demora 30 minutos em 4 milhas, qual velocidade media em km/h ? e o tempo medio por kilometro?"
      ],
      "metadata": {
        "id": "ledRgthm9OJ9"
      }
    },
    {
      "cell_type": "code",
      "source": [
        ""
      ],
      "metadata": {
        "id": "WRb03aTu9tmr"
      },
      "execution_count": null,
      "outputs": []
    }
  ]
}